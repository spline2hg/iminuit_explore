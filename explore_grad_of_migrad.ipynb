{
  "nbformat": 4,
  "nbformat_minor": 0,
  "metadata": {
    "colab": {
      "provenance": []
    },
    "kernelspec": {
      "name": "python3",
      "display_name": "Python 3"
    },
    "language_info": {
      "name": "python"
    }
  },
  "cells": [
    {
      "cell_type": "code",
      "execution_count": 1,
      "metadata": {
        "colab": {
          "base_uri": "https://localhost:8080/"
        },
        "id": "u9PLiTqZs2Z8",
        "outputId": "6f1b6a26-863e-4be1-b438-b0503e0bf6b3"
      },
      "outputs": [
        {
          "output_type": "stream",
          "name": "stdout",
          "text": [
            "Collecting iminuit\n",
            "  Downloading iminuit-2.30.1-cp311-cp311-manylinux_2_17_x86_64.manylinux2014_x86_64.whl.metadata (12 kB)\n",
            "Requirement already satisfied: numpy>=1.21 in /usr/local/lib/python3.11/dist-packages (from iminuit) (2.0.2)\n",
            "Downloading iminuit-2.30.1-cp311-cp311-manylinux_2_17_x86_64.manylinux2014_x86_64.whl (440 kB)\n",
            "\u001b[2K   \u001b[90m━━━━━━━━━━━━━━━━━━━━━━━━━━━━━━━━━━━━━━━━\u001b[0m \u001b[32m440.8/440.8 kB\u001b[0m \u001b[31m4.9 MB/s\u001b[0m eta \u001b[36m0:00:00\u001b[0m\n",
            "\u001b[?25hInstalling collected packages: iminuit\n",
            "Successfully installed iminuit-2.30.1\n"
          ]
        }
      ],
      "source": [
        "!pip install iminuit"
      ]
    },
    {
      "cell_type": "code",
      "source": [
        "import numpy as np\n",
        "from iminuit import Minuit\n",
        "\n",
        "def cost_function(x, a, b, c):\n",
        "    \"\"\"A simple quadratic cost function.\"\"\"\n",
        "    return a * x**2 + b * x + c\n",
        "\n",
        "def gradient_function(x, a, b, c):\n",
        "    \"\"\"Analytical gradient of the cost function.\"\"\"\n",
        "    da = x**2\n",
        "    db = x\n",
        "    dc = 1\n",
        "    # return np.array([da, db, dc])\n",
        "    return da, db, dc\n",
        "\n",
        "np.random.seed(0)\n",
        "x_data = np.linspace(-5, 5, 20)\n",
        "true_a, true_b, true_c = 1.5, -2.0, 3.0\n",
        "y_data = cost_function(x_data, true_a, true_b, true_c) + np.random.normal(0, 5, 20)\n",
        "\n",
        "def cost_for_minuit(a, b, c):\n",
        "    \"\"\"Cost function for iminuit (sum of squared residuals).\"\"\"\n",
        "    return np.sum((cost_function(x_data, a, b, c) - y_data) ** 2)\n",
        "\n",
        "def gradient_for_minuit(a, b, c):\n",
        "    \"\"\"Gradient function for iminuit (sum of residuals * gradient of cost).\"\"\"\n",
        "    residuals = cost_function(x_data, a, b, c) - y_data\n",
        "    grad_a = np.sum(2 * residuals * gradient_function(x_data, a, b, c)[0])\n",
        "    grad_b = np.sum(2 * residuals * gradient_function(x_data, a, b, c)[1])\n",
        "    grad_c = np.sum(2 * residuals * gradient_function(x_data, a, b, c)[2])\n",
        "    return grad_a, grad_b, grad_c\n",
        "\n",
        "m = Minuit(cost_for_minuit, grad=gradient_for_minuit, a=0, b=0, c=0)\n",
        "\n",
        "m.migrad()\n",
        "\n",
        "print(m)\n",
        "\n",
        "print(f\"True values: a={true_a}, b={true_b}, c={true_c}\")"
      ],
      "metadata": {
        "colab": {
          "base_uri": "https://localhost:8080/"
        },
        "id": "hLk4qaqMwQYI",
        "outputId": "e52497f0-23a3-48d2-b262-24400859ed4e"
      },
      "execution_count": 4,
      "outputs": [
        {
          "output_type": "stream",
          "name": "stdout",
          "text": [
            "┌─────────────────────────────────────────────────────────────────────────┐\n",
            "│                                Migrad                                   │\n",
            "├──────────────────────────────────┬──────────────────────────────────────┤\n",
            "│ FCN = 300.4                      │         Nfcn = 47, Ngrad = 3         │\n",
            "│ EDM = 1.05e-21 (Goal: 0.0002)    │                                      │\n",
            "├──────────────────────────────────┼──────────────────────────────────────┤\n",
            "│          Valid Minimum           │   Below EDM threshold (goal x 10)    │\n",
            "├──────────────────────────────────┼──────────────────────────────────────┤\n",
            "│      No parameters at limit      │           Below call limit           │\n",
            "├──────────────────────────────────┼──────────────────────────────────────┤\n",
            "│             Hesse ok             │         Covariance accurate          │\n",
            "└──────────────────────────────────┴──────────────────────────────────────┘\n",
            "┌───┬──────┬───────────┬───────────┬────────────┬────────────┬─────────┬─────────┬───────┐\n",
            "│   │ Name │   Value   │ Hesse Err │ Minos Err- │ Minos Err+ │ Limit-  │ Limit+  │ Fixed │\n",
            "├───┼──────┼───────────┼───────────┼────────────┼────────────┼─────────┼─────────┼───────┤\n",
            "│ 0 │ a    │   1.533   │   0.027   │            │            │         │         │       │\n",
            "│ 1 │ b    │   -2.57   │   0.07    │            │            │         │         │       │\n",
            "│ 2 │ c    │   5.54    │   0.34    │            │            │         │         │       │\n",
            "└───┴──────┴───────────┴───────────┴────────────┴────────────┴─────────┴─────────┴───────┘\n",
            "┌───┬────────────────────────────┐\n",
            "│   │        a        b        c │\n",
            "├───┼────────────────────────────┤\n",
            "│ a │ 0.000742        0  -6.8e-3 │\n",
            "│ b │        0  0.00543   -0.000 │\n",
            "│ c │  -6.8e-3   -0.000    0.113 │\n",
            "└───┴────────────────────────────┘\n"
          ]
        }
      ]
    },
    {
      "cell_type": "code",
      "source": [
        "import numpy as np\n",
        "from iminuit import Minuit\n",
        "\n",
        "def cost_function(x, a, b, c):\n",
        "    \"\"\"A simple quadratic cost function.\"\"\"\n",
        "    return a * x**2 + b * x + c\n",
        "\n",
        "np.random.seed(0)\n",
        "x_data = np.linspace(-5, 5, 20)\n",
        "true_a, true_b, true_c = 1.5, -2.0, 3.0\n",
        "y_data = cost_function(x_data, true_a, true_b, true_c) + np.random.normal(0, 5, 20)\n",
        "\n",
        "def cost_for_minuit(a, b, c):\n",
        "    \"\"\"Cost function for iminuit (sum of squared residuals).\"\"\"\n",
        "    return np.sum((cost_function(x_data, a, b, c) - y_data) ** 2)\n",
        "\n",
        "m = Minuit(cost_for_minuit, a=0, b=0, c=0) # Removed grad=gradient_for_minuit\n",
        "\n",
        "m.migrad()\n",
        "\n",
        "print(m)\n",
        "\n",
        "# print(f\"True values: a={true_a}, b={true_b}, c={true_c}\")"
      ],
      "metadata": {
        "colab": {
          "base_uri": "https://localhost:8080/"
        },
        "id": "HNwtR4I3xgGW",
        "outputId": "d51b23b0-f124-4042-e842-95941dd07c84"
      },
      "execution_count": 7,
      "outputs": [
        {
          "output_type": "stream",
          "name": "stdout",
          "text": [
            "┌─────────────────────────────────────────────────────────────────────────┐\n",
            "│                                Migrad                                   │\n",
            "├──────────────────────────────────┬──────────────────────────────────────┤\n",
            "│ FCN = 300.4                      │              Nfcn = 53               │\n",
            "│ EDM = 6.25e-22 (Goal: 0.0002)    │                                      │\n",
            "├──────────────────────────────────┼──────────────────────────────────────┤\n",
            "│          Valid Minimum           │   Below EDM threshold (goal x 10)    │\n",
            "├──────────────────────────────────┼──────────────────────────────────────┤\n",
            "│      No parameters at limit      │           Below call limit           │\n",
            "├──────────────────────────────────┼──────────────────────────────────────┤\n",
            "│             Hesse ok             │         Covariance accurate          │\n",
            "└──────────────────────────────────┴──────────────────────────────────────┘\n",
            "┌───┬──────┬───────────┬───────────┬────────────┬────────────┬─────────┬─────────┬───────┐\n",
            "│   │ Name │   Value   │ Hesse Err │ Minos Err- │ Minos Err+ │ Limit-  │ Limit+  │ Fixed │\n",
            "├───┼──────┼───────────┼───────────┼────────────┼────────────┼─────────┼─────────┼───────┤\n",
            "│ 0 │ a    │   1.533   │   0.027   │            │            │         │         │       │\n",
            "│ 1 │ b    │   -2.57   │   0.07    │            │            │         │         │       │\n",
            "│ 2 │ c    │   5.54    │   0.34    │            │            │         │         │       │\n",
            "└───┴──────┴───────────┴───────────┴────────────┴────────────┴─────────┴─────────┴───────┘\n",
            "┌───┬────────────────────────────┐\n",
            "│   │        a        b        c │\n",
            "├───┼────────────────────────────┤\n",
            "│ a │ 0.000742       -0  -6.8e-3 │\n",
            "│ b │       -0  0.00543    0.000 │\n",
            "│ c │  -6.8e-3    0.000    0.113 │\n",
            "└───┴────────────────────────────┘\n"
          ]
        }
      ]
    }
  ]
}