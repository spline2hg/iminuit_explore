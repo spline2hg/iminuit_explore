{
  "nbformat": 4,
  "nbformat_minor": 0,
  "metadata": {
    "colab": {
      "provenance": []
    },
    "kernelspec": {
      "name": "python3",
      "display_name": "Python 3"
    },
    "language_info": {
      "name": "python"
    }
  },
  "cells": [
    {
      "cell_type": "code",
      "execution_count": 1,
      "metadata": {
        "colab": {
          "base_uri": "https://localhost:8080/"
        },
        "id": "5nvuVSuHaHDN",
        "outputId": "c3edde23-18ee-4a39-8c73-328b15ef6ab1"
      },
      "outputs": [
        {
          "output_type": "stream",
          "name": "stdout",
          "text": [
            "Collecting iminuit\n",
            "  Downloading iminuit-2.30.1-cp311-cp311-manylinux_2_17_x86_64.manylinux2014_x86_64.whl.metadata (12 kB)\n",
            "Requirement already satisfied: numpy>=1.21 in /usr/local/lib/python3.11/dist-packages (from iminuit) (1.26.4)\n",
            "Downloading iminuit-2.30.1-cp311-cp311-manylinux_2_17_x86_64.manylinux2014_x86_64.whl (440 kB)\n",
            "\u001b[2K   \u001b[90m━━━━━━━━━━━━━━━━━━━━━━━━━━━━━━━━━━━━━━━━\u001b[0m \u001b[32m440.8/440.8 kB\u001b[0m \u001b[31m10.2 MB/s\u001b[0m eta \u001b[36m0:00:00\u001b[0m\n",
            "\u001b[?25hInstalling collected packages: iminuit\n",
            "Successfully installed iminuit-2.30.1\n"
          ]
        }
      ],
      "source": [
        "!pip install iminuit\n"
      ]
    },
    {
      "cell_type": "code",
      "source": [
        "import numpy as np\n",
        "from iminuit import Minuit"
      ],
      "metadata": {
        "id": "6kSNB6ZbbpD1"
      },
      "execution_count": 2,
      "outputs": []
    },
    {
      "cell_type": "code",
      "source": [
        "def sphere(params):\n",
        "    return params @ params\n"
      ],
      "metadata": {
        "id": "qKzyEfccbyxz"
      },
      "execution_count": 3,
      "outputs": []
    },
    {
      "cell_type": "code",
      "source": [
        "m = Minuit(sphere, params=5)  # starting values for α and β\n",
        "\n",
        "m.migrad()  # finds minimum of least_squares function\n",
        "m.hesse()"
      ],
      "metadata": {
        "colab": {
          "base_uri": "https://localhost:8080/",
          "height": 291
        },
        "id": "ua0T7966b3Hf",
        "outputId": "6878590b-73d8-470c-90bd-7ec5eadf6816"
      },
      "execution_count": 5,
      "outputs": [
        {
          "output_type": "error",
          "ename": "TypeError",
          "evalue": "unsupported operand type(s) for @: 'numpy.float64' and 'numpy.float64'",
          "traceback": [
            "\u001b[0;31m---------------------------------------------------------------------------\u001b[0m",
            "\u001b[0;31mTypeError\u001b[0m                                 Traceback (most recent call last)",
            "\u001b[0;32m<ipython-input-5-a8561457b19d>\u001b[0m in \u001b[0;36m<cell line: 0>\u001b[0;34m()\u001b[0m\n\u001b[1;32m      1\u001b[0m \u001b[0mm\u001b[0m \u001b[0;34m=\u001b[0m \u001b[0mMinuit\u001b[0m\u001b[0;34m(\u001b[0m\u001b[0msphere\u001b[0m\u001b[0;34m,\u001b[0m \u001b[0mparams\u001b[0m\u001b[0;34m=\u001b[0m\u001b[0;36m5\u001b[0m\u001b[0;34m)\u001b[0m  \u001b[0;31m# starting values for α and β\u001b[0m\u001b[0;34m\u001b[0m\u001b[0;34m\u001b[0m\u001b[0m\n\u001b[1;32m      2\u001b[0m \u001b[0;34m\u001b[0m\u001b[0m\n\u001b[0;32m----> 3\u001b[0;31m \u001b[0mm\u001b[0m\u001b[0;34m.\u001b[0m\u001b[0mmigrad\u001b[0m\u001b[0;34m(\u001b[0m\u001b[0;34m)\u001b[0m  \u001b[0;31m# finds minimum of least_squares function\u001b[0m\u001b[0;34m\u001b[0m\u001b[0;34m\u001b[0m\u001b[0m\n\u001b[0m\u001b[1;32m      4\u001b[0m \u001b[0mm\u001b[0m\u001b[0;34m.\u001b[0m\u001b[0mhesse\u001b[0m\u001b[0;34m(\u001b[0m\u001b[0;34m)\u001b[0m\u001b[0;34m\u001b[0m\u001b[0;34m\u001b[0m\u001b[0m\n",
            "\u001b[0;32m/usr/local/lib/python3.11/dist-packages/iminuit/minuit.py\u001b[0m in \u001b[0;36mmigrad\u001b[0;34m(self, ncall, iterate, use_simplex)\u001b[0m\n\u001b[1;32m    787\u001b[0m         \u001b[0mt\u001b[0m \u001b[0;34m=\u001b[0m \u001b[0mmutil\u001b[0m\u001b[0;34m.\u001b[0m\u001b[0m_Timer\u001b[0m\u001b[0;34m(\u001b[0m\u001b[0mself\u001b[0m\u001b[0;34m.\u001b[0m\u001b[0m_fmin\u001b[0m\u001b[0;34m)\u001b[0m\u001b[0;34m\u001b[0m\u001b[0;34m\u001b[0m\u001b[0m\n\u001b[1;32m    788\u001b[0m         \u001b[0;32mwith\u001b[0m \u001b[0mt\u001b[0m\u001b[0;34m:\u001b[0m\u001b[0;34m\u001b[0m\u001b[0;34m\u001b[0m\u001b[0m\n\u001b[0;32m--> 789\u001b[0;31m             fm = _robust_low_level_fit(\n\u001b[0m\u001b[1;32m    790\u001b[0m                 \u001b[0mself\u001b[0m\u001b[0;34m.\u001b[0m\u001b[0m_fcn\u001b[0m\u001b[0;34m,\u001b[0m\u001b[0;34m\u001b[0m\u001b[0;34m\u001b[0m\u001b[0m\n\u001b[1;32m    791\u001b[0m                 \u001b[0mself\u001b[0m\u001b[0;34m.\u001b[0m\u001b[0m_last_state\u001b[0m\u001b[0;34m,\u001b[0m\u001b[0;34m\u001b[0m\u001b[0;34m\u001b[0m\u001b[0m\n",
            "\u001b[0;32m/usr/local/lib/python3.11/dist-packages/iminuit/minuit.py\u001b[0m in \u001b[0;36m_robust_low_level_fit\u001b[0;34m(fcn, state, ncall, strategy, tolerance, precision, iterate, use_simplex)\u001b[0m\n\u001b[1;32m   2743\u001b[0m     \u001b[0;32mif\u001b[0m \u001b[0mprecision\u001b[0m \u001b[0;32mis\u001b[0m \u001b[0;32mnot\u001b[0m \u001b[0;32mNone\u001b[0m\u001b[0;34m:\u001b[0m\u001b[0;34m\u001b[0m\u001b[0;34m\u001b[0m\u001b[0m\n\u001b[1;32m   2744\u001b[0m         \u001b[0mmigrad\u001b[0m\u001b[0;34m.\u001b[0m\u001b[0mprecision\u001b[0m \u001b[0;34m=\u001b[0m \u001b[0mprecision\u001b[0m\u001b[0;34m\u001b[0m\u001b[0;34m\u001b[0m\u001b[0m\n\u001b[0;32m-> 2745\u001b[0;31m     \u001b[0mfm\u001b[0m \u001b[0;34m=\u001b[0m \u001b[0mmigrad\u001b[0m\u001b[0;34m(\u001b[0m\u001b[0mncall\u001b[0m\u001b[0;34m,\u001b[0m \u001b[0mtolerance\u001b[0m\u001b[0;34m)\u001b[0m\u001b[0;34m\u001b[0m\u001b[0;34m\u001b[0m\u001b[0m\n\u001b[0m\u001b[1;32m   2746\u001b[0m     \u001b[0mstrategy\u001b[0m \u001b[0;34m=\u001b[0m \u001b[0mMnStrategy\u001b[0m\u001b[0;34m(\u001b[0m\u001b[0;36m2\u001b[0m\u001b[0;34m)\u001b[0m\u001b[0;34m\u001b[0m\u001b[0;34m\u001b[0m\u001b[0m\n\u001b[1;32m   2747\u001b[0m     \u001b[0mmigrad\u001b[0m \u001b[0;34m=\u001b[0m \u001b[0mMnMigrad\u001b[0m\u001b[0;34m(\u001b[0m\u001b[0mfcn\u001b[0m\u001b[0;34m,\u001b[0m \u001b[0mfm\u001b[0m\u001b[0;34m.\u001b[0m\u001b[0mstate\u001b[0m\u001b[0;34m,\u001b[0m \u001b[0mstrategy\u001b[0m\u001b[0;34m)\u001b[0m\u001b[0;34m\u001b[0m\u001b[0;34m\u001b[0m\u001b[0m\n",
            "\u001b[0;32m<ipython-input-3-9859382ebf9e>\u001b[0m in \u001b[0;36msphere\u001b[0;34m(params)\u001b[0m\n\u001b[1;32m      1\u001b[0m \u001b[0;32mdef\u001b[0m \u001b[0msphere\u001b[0m\u001b[0;34m(\u001b[0m\u001b[0mparams\u001b[0m\u001b[0;34m)\u001b[0m\u001b[0;34m:\u001b[0m\u001b[0;34m\u001b[0m\u001b[0;34m\u001b[0m\u001b[0m\n\u001b[0;32m----> 2\u001b[0;31m     \u001b[0;32mreturn\u001b[0m \u001b[0mparams\u001b[0m \u001b[0;34m@\u001b[0m \u001b[0mparams\u001b[0m\u001b[0;34m\u001b[0m\u001b[0;34m\u001b[0m\u001b[0m\n\u001b[0m",
            "\u001b[0;31mTypeError\u001b[0m: unsupported operand type(s) for @: 'numpy.float64' and 'numpy.float64'"
          ]
        }
      ]
    },
    {
      "cell_type": "code",
      "source": [
        "import numpy as np\n",
        "import optimagic as om\n",
        "\n",
        "def sphere(params):\n",
        "    return params @ params\n",
        "\n",
        "# Test with numpy array parameters\n",
        "iminuit_res_np = om.minimize(\n",
        "    fun=sphere,\n",
        "    params=np.arange(5),\n",
        "    algorithm=\"iminuit_migrad\",\n",
        ")\n",
        "\n",
        "print(\"iminuit_migrad with numpy array:\")\n",
        "print(iminuit_res_np)\n",
        "print(\"Optimized parameters:\", iminuit_res_np.params.round(5))\n"
      ],
      "metadata": {
        "id": "oAk1aQk3bdoc"
      },
      "execution_count": null,
      "outputs": []
    },
    {
      "cell_type": "code",
      "source": [],
      "metadata": {
        "id": "Yfco6aLuq89q"
      },
      "execution_count": null,
      "outputs": []
    },
    {
      "cell_type": "code",
      "source": [
        "from matplotlib import pyplot as plt"
      ],
      "metadata": {
        "id": "1SWuTIVjq9AJ"
      },
      "execution_count": 7,
      "outputs": []
    },
    {
      "cell_type": "code",
      "source": [
        "def cost_function_with_two_minima(x):\n",
        "    return x**4 - x**2 + 1\n",
        "\n",
        "\n",
        "x = np.linspace(-1.5, 1.5)\n",
        "plt.plot(x, cost_function_with_two_minima(x));"
      ],
      "metadata": {
        "colab": {
          "base_uri": "https://localhost:8080/",
          "height": 430
        },
        "id": "SiAGQCndq9DT",
        "outputId": "e7bcd240-390a-427f-b9fa-946bba273667"
      },
      "execution_count": 8,
      "outputs": [
        {
          "output_type": "display_data",
          "data": {
            "text/plain": [
              "<Figure size 640x480 with 1 Axes>"
            ],
            "image/png": "[encoded data removed]"
          },
          "metadata": {}
        }
      ]
    },
    {
      "cell_type": "code",
      "source": [
        "# starting at -0.1 gives the left minimum\n",
        "m = Minuit(cost_function_with_two_minima, x=0.1)\n",
        "m.migrad()\n",
        "print(\"starting value -0.1, minimum at\", m.values[\"x\"])\n",
        "\n",
        "# changing the starting value to 0.1 gives the right minimum\n",
        "# m.values[\"x\"] = 0.1  # m.values[0] = 0.1 also works\n",
        "# m.migrad()\n",
        "# print(\"starting value +0.1, minimum at\", m.values[\"x\"])\n",
        "\n"
      ],
      "metadata": {
        "colab": {
          "base_uri": "https://localhost:8080/"
        },
        "id": "54_q5J_grJXW",
        "outputId": "b116023b-980d-46d8-e89e-ce7dd56ccf5d"
      },
      "execution_count": 15,
      "outputs": [
        {
          "output_type": "stream",
          "name": "stdout",
          "text": [
            "starting value -0.1, minimum at 0.7085906080341975\n"
          ]
        }
      ]
    },
    {
      "cell_type": "code",
      "source": [
        "m.params"
      ],
      "metadata": {
        "colab": {
          "base_uri": "https://localhost:8080/",
          "height": 62
        },
        "id": "aqDjPt3hr5N0",
        "outputId": "f5e8a871-ac39-47c5-e382-ea113bcdacbe"
      },
      "execution_count": 18,
      "outputs": [
        {
          "output_type": "execute_result",
          "data": {
            "text/plain": [
              "┌───┬──────┬───────────┬───────────┬────────────┬────────────┬─────────┬─────────┬───────┐\n",
              "│   │ Name │   Value   │ Hesse Err │ Minos Err- │ Minos Err+ │ Limit-  │ Limit+  │ Fixed │\n",
              "├───┼──────┼───────────┼───────────┼────────────┼────────────┼─────────┼─────────┼───────┤\n",
              "│ 0 │ x    │    0.5    │    0.7    │            │            │    0    │   0.5   │       │\n",
              "└───┴──────┴───────────┴───────────┴────────────┴────────────┴─────────┴─────────┴───────┘"
            ],
            "text/html": [
              "<table>\n",
              "    <tr>\n",
              "        <td></td>\n",
              "        <th title=\"Variable name\"> Name </th>\n",
              "        <th title=\"Value of parameter\"> Value </th>\n",
              "        <th title=\"Hesse error\"> Hesse Error </th>\n",
              "        <th title=\"Minos lower error\"> Minos Error- </th>\n",
              "        <th title=\"Minos upper error\"> Minos Error+ </th>\n",
              "        <th title=\"Lower limit of the parameter\"> Limit- </th>\n",
              "        <th title=\"Upper limit of the parameter\"> Limit+ </th>\n",
              "        <th title=\"Is the parameter fixed in the fit\"> Fixed </th>\n",
              "    </tr>\n",
              "    <tr>\n",
              "        <th> 0 </th>\n",
              "        <td> x </td>\n",
              "        <td> 0.5 </td>\n",
              "        <td> 0.7 </td>\n",
              "        <td>  </td>\n",
              "        <td>  </td>\n",
              "        <td> 0 </td>\n",
              "        <td> 0.5 </td>\n",
              "        <td>  </td>\n",
              "    </tr>\n",
              "</table>"
            ]
          },
          "metadata": {},
          "execution_count": 18
        }
      ]
    },
    {
      "cell_type": "code",
      "source": [
        "m.fmin"
      ],
      "metadata": {
        "colab": {
          "base_uri": "https://localhost:8080/",
          "height": 147
        },
        "id": "Tl9zlfUcs3w-",
        "outputId": "743a4c48-bacd-4712-f9d4-aebf0682ea2f"
      },
      "execution_count": 13,
      "outputs": [
        {
          "output_type": "execute_result",
          "data": {
            "text/plain": [
              "┌─────────────────────────────────────────────────────────────────────────┐\n",
              "│                                Migrad                                   │\n",
              "├──────────────────────────────────┬──────────────────────────────────────┤\n",
              "│ FCN = 0.75                       │              Nfcn = 35               │\n",
              "│ EDM = 4.4e-06 (Goal: 0.0002)     │                                      │\n",
              "├──────────────────────────────────┼──────────────────────────────────────┤\n",
              "│          Valid Minimum           │   Below EDM threshold (goal x 10)    │\n",
              "├──────────────────────────────────┼──────────────────────────────────────┤\n",
              "│      No parameters at limit      │           Below call limit           │\n",
              "├──────────────────────────────────┼──────────────────────────────────────┤\n",
              "│             Hesse ok             │         Covariance accurate          │\n",
              "└──────────────────────────────────┴──────────────────────────────────────┘"
            ],
            "text/html": [
              "<table>\n",
              "    <tr>\n",
              "        <th colspan=\"2\" style=\"text-align:center\" title=\"Minimizer\"> Migrad </th>\n",
              "    </tr>\n",
              "    <tr>\n",
              "        <td style=\"text-align:left\" title=\"Minimum value of function\"> FCN = 0.75 </td>\n",
              "        <td style=\"text-align:center\" title=\"Total number of function and (optional) gradient evaluations\"> Nfcn = 35 </td>\n",
              "    </tr>\n",
              "    <tr>\n",
              "        <td style=\"text-align:left\" title=\"Estimated distance to minimum and goal\"> EDM = 4.4e-06 (Goal: 0.0002) </td>\n",
              "        <td style=\"text-align:center\" title=\"Total run time of algorithms\">  </td>\n",
              "    </tr>\n",
              "    <tr>\n",
              "        <td style=\"text-align:center;background-color:#92CCA6;color:black\"> Valid Minimum </td>\n",
              "        <td style=\"text-align:center;background-color:#92CCA6;color:black\"> Below EDM threshold (goal x 10) </td>\n",
              "    </tr>\n",
              "    <tr>\n",
              "        <td style=\"text-align:center;background-color:#92CCA6;color:black\"> No parameters at limit </td>\n",
              "        <td style=\"text-align:center;background-color:#92CCA6;color:black\"> Below call limit </td>\n",
              "    </tr>\n",
              "    <tr>\n",
              "        <td style=\"text-align:center;background-color:#92CCA6;color:black\"> Hesse ok </td>\n",
              "        <td style=\"text-align:center;background-color:#92CCA6;color:black\"> Covariance accurate </td>\n",
              "    </tr>\n",
              "</table>"
            ]
          },
          "metadata": {},
          "execution_count": 13
        }
      ]
    },
    {
      "cell_type": "code",
      "source": [
        "m.valid"
      ],
      "metadata": {
        "colab": {
          "base_uri": "https://localhost:8080/"
        },
        "id": "Vp2ZxrktuPVC",
        "outputId": "bd4a294e-b535-4683-abcf-512aa188dc93"
      },
      "execution_count": 14,
      "outputs": [
        {
          "output_type": "execute_result",
          "data": {
            "text/plain": [
              "True"
            ]
          },
          "metadata": {},
          "execution_count": 14
        }
      ]
    },
    {
      "cell_type": "code",
      "source": [
        "m.limits = [(0,0.5)]"
      ],
      "metadata": {
        "id": "a_DEPkiCvijx"
      },
      "execution_count": 17,
      "outputs": []
    },
    {
      "cell_type": "code",
      "source": [
        "np.array(m.values)"
      ],
      "metadata": {
        "colab": {
          "base_uri": "https://localhost:8080/"
        },
        "id": "HBY3mzqy1aaI",
        "outputId": "09d6f52b-01aa-4e09-9d43-da3b2d005610"
      },
      "execution_count": 21,
      "outputs": [
        {
          "output_type": "execute_result",
          "data": {
            "text/plain": [
              "array([0.5])"
            ]
          },
          "metadata": {},
          "execution_count": 21
        }
      ]
    },
    {
      "cell_type": "code",
      "source": [
        "m.fval"
      ],
      "metadata": {
        "colab": {
          "base_uri": "https://localhost:8080/"
        },
        "id": "wZjqjHF31jyg",
        "outputId": "19fd288c-3a24-4496-df6e-45a648380f5a"
      },
      "execution_count": 22,
      "outputs": [
        {
          "output_type": "execute_result",
          "data": {
            "text/plain": [
              "0.7500044127295582"
            ]
          },
          "metadata": {},
          "execution_count": 22
        }
      ]
    },
    {
      "cell_type": "code",
      "source": [
        "m.fmin"
      ],
      "metadata": {
        "colab": {
          "base_uri": "https://localhost:8080/",
          "height": 147
        },
        "id": "CUanwHku1z6l",
        "outputId": "aa8cb16f-9b35-4433-8a55-17cc044b60f5"
      },
      "execution_count": 24,
      "outputs": [
        {
          "output_type": "execute_result",
          "data": {
            "text/plain": [
              "┌─────────────────────────────────────────────────────────────────────────┐\n",
              "│                                Migrad                                   │\n",
              "├──────────────────────────────────┬──────────────────────────────────────┤\n",
              "│ FCN = 0.75                       │              Nfcn = 35               │\n",
              "│ EDM = 4.4e-06 (Goal: 0.0002)     │                                      │\n",
              "├──────────────────────────────────┼──────────────────────────────────────┤\n",
              "│          Valid Minimum           │   Below EDM threshold (goal x 10)    │\n",
              "├──────────────────────────────────┼──────────────────────────────────────┤\n",
              "│      No parameters at limit      │           Below call limit           │\n",
              "├──────────────────────────────────┼──────────────────────────────────────┤\n",
              "│             Hesse ok             │         Covariance accurate          │\n",
              "└──────────────────────────────────┴──────────────────────────────────────┘"
            ],
            "text/html": [
              "<table>\n",
              "    <tr>\n",
              "        <th colspan=\"2\" style=\"text-align:center\" title=\"Minimizer\"> Migrad </th>\n",
              "    </tr>\n",
              "    <tr>\n",
              "        <td style=\"text-align:left\" title=\"Minimum value of function\"> FCN = 0.75 </td>\n",
              "        <td style=\"text-align:center\" title=\"Total number of function and (optional) gradient evaluations\"> Nfcn = 35 </td>\n",
              "    </tr>\n",
              "    <tr>\n",
              "        <td style=\"text-align:left\" title=\"Estimated distance to minimum and goal\"> EDM = 4.4e-06 (Goal: 0.0002) </td>\n",
              "        <td style=\"text-align:center\" title=\"Total run time of algorithms\">  </td>\n",
              "    </tr>\n",
              "    <tr>\n",
              "        <td style=\"text-align:center;background-color:#92CCA6;color:black\"> Valid Minimum </td>\n",
              "        <td style=\"text-align:center;background-color:#92CCA6;color:black\"> Below EDM threshold (goal x 10) </td>\n",
              "    </tr>\n",
              "    <tr>\n",
              "        <td style=\"text-align:center;background-color:#92CCA6;color:black\"> No parameters at limit </td>\n",
              "        <td style=\"text-align:center;background-color:#92CCA6;color:black\"> Below call limit </td>\n",
              "    </tr>\n",
              "    <tr>\n",
              "        <td style=\"text-align:center;background-color:#92CCA6;color:black\"> Hesse ok </td>\n",
              "        <td style=\"text-align:center;background-color:#92CCA6;color:black\"> Covariance accurate </td>\n",
              "    </tr>\n",
              "</table>"
            ]
          },
          "metadata": {},
          "execution_count": 24
        }
      ]
    },
    {
      "cell_type": "markdown",
      "source": [],
      "metadata": {
        "id": "CNKe-aE_Tp4k"
      }
    },
    {
      "cell_type": "markdown",
      "source": [],
      "metadata": {
        "id": "SC2kTkJYTp7p"
      }
    },
    {
      "cell_type": "code",
      "source": [
        "repr(m.fmin)"
      ],
      "metadata": {
        "colab": {
          "base_uri": "https://localhost:8080/",
          "height": 71
        },
        "id": "zzunaS412Adg",
        "outputId": "5efe7594-90bc-42e9-c587-e49b1e40e046"
      },
      "execution_count": 25,
      "outputs": [
        {
          "output_type": "execute_result",
          "data": {
            "text/plain": [
              "\"<FMin algorithm='Migrad' edm=4.403561529873038e-06 edm_goal=0.0002 errordef=1.0 fval=0.7500044127295582 has_accurate_covar=True has_covariance=True has_made_posdef_covar=False has_parameters_at_limit=False has_posdef_covar=True has_reached_call_limit=False has_valid_parameters=True hesse_failed=False is_above_max_edm=False is_valid=True nfcn=35 ngrad=0 reduced_chi2=nan time=0.00014946999999665422>\""
            ],
            "application/vnd.google.colaboratory.intrinsic+json": {
              "type": "string"
            }
          },
          "metadata": {},
          "execution_count": 25
        }
      ]
    },
    {
      "cell_type": "markdown",
      "source": [],
      "metadata": {
        "id": "EIH0WUH-Tp-I"
      }
    },
    {
      "cell_type": "code",
      "source": [
        "import inspect"
      ],
      "metadata": {
        "id": "2Tr_ouJUTrmI"
      },
      "execution_count": 2,
      "outputs": []
    },
    {
      "cell_type": "code",
      "source": [
        "def abbb(a,b):\n",
        "  return a+b"
      ],
      "metadata": {
        "id": "NrKqPcvoTuDs"
      },
      "execution_count": 3,
      "outputs": []
    },
    {
      "cell_type": "code",
      "source": [
        "signature = inspect.signature(abbb)\n",
        "parameters = signature.parameters\n",
        "parameters"
      ],
      "metadata": {
        "colab": {
          "base_uri": "https://localhost:8080/"
        },
        "id": "bANFyZtvTxuF",
        "outputId": "6c2daa03-afbd-4e0d-8df1-4bed807bd6aa"
      },
      "execution_count": 5,
      "outputs": [
        {
          "output_type": "execute_result",
          "data": {
            "text/plain": [
              "mappingproxy({'a': <Parameter \"a\">, 'b': <Parameter \"b\">})"
            ]
          },
          "metadata": {},
          "execution_count": 5
        }
      ]
    }
  ]
}