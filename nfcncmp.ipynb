{
  "nbformat": 4,
  "nbformat_minor": 0,
  "metadata": {
    "colab": {
      "provenance": []
    },
    "kernelspec": {
      "name": "python3",
      "display_name": "Python 3"
    },
    "language_info": {
      "name": "python"
    }
  },
  "cells": [
    {
      "cell_type": "code",
      "execution_count": 1,
      "metadata": {
        "colab": {
          "base_uri": "https://localhost:8080/"
        },
        "collapsed": true,
        "id": "RgG_Qtiykr5m",
        "outputId": "53b7cf60-c3a9-4d08-f9ee-e81d466703df"
      },
      "outputs": [
        {
          "output_type": "stream",
          "name": "stdout",
          "text": [
            "Collecting optimagic\n",
            "  Downloading optimagic-0.5.1-py3-none-any.whl.metadata (5.9 kB)\n",
            "Requirement already satisfied: annotated-types in /usr/local/lib/python3.11/dist-packages (from optimagic) (0.7.0)\n",
            "Requirement already satisfied: cloudpickle in /usr/local/lib/python3.11/dist-packages (from optimagic) (3.1.1)\n",
            "Requirement already satisfied: joblib in /usr/local/lib/python3.11/dist-packages (from optimagic) (1.4.2)\n",
            "Requirement already satisfied: numpy in /usr/local/lib/python3.11/dist-packages (from optimagic) (2.0.2)\n",
            "Requirement already satisfied: pandas in /usr/local/lib/python3.11/dist-packages (from optimagic) (2.2.2)\n",
            "Requirement already satisfied: plotly in /usr/local/lib/python3.11/dist-packages (from optimagic) (5.24.1)\n",
            "Collecting pybaum>=0.1.2 (from optimagic)\n",
            "  Downloading pybaum-0.1.3-py3-none-any.whl.metadata (3.8 kB)\n",
            "Requirement already satisfied: scipy>=1.2.1 in /usr/local/lib/python3.11/dist-packages (from optimagic) (1.14.1)\n",
            "Requirement already satisfied: sqlalchemy>=1.3 in /usr/local/lib/python3.11/dist-packages (from optimagic) (2.0.39)\n",
            "Requirement already satisfied: typing-extensions in /usr/local/lib/python3.11/dist-packages (from optimagic) (4.12.2)\n",
            "Requirement already satisfied: greenlet!=0.4.17 in /usr/local/lib/python3.11/dist-packages (from sqlalchemy>=1.3->optimagic) (3.1.1)\n",
            "Requirement already satisfied: python-dateutil>=2.8.2 in /usr/local/lib/python3.11/dist-packages (from pandas->optimagic) (2.8.2)\n",
            "Requirement already satisfied: pytz>=2020.1 in /usr/local/lib/python3.11/dist-packages (from pandas->optimagic) (2025.1)\n",
            "Requirement already satisfied: tzdata>=2022.7 in /usr/local/lib/python3.11/dist-packages (from pandas->optimagic) (2025.1)\n",
            "Requirement already satisfied: tenacity>=6.2.0 in /usr/local/lib/python3.11/dist-packages (from plotly->optimagic) (9.0.0)\n",
            "Requirement already satisfied: packaging in /usr/local/lib/python3.11/dist-packages (from plotly->optimagic) (24.2)\n",
            "Requirement already satisfied: six>=1.5 in /usr/local/lib/python3.11/dist-packages (from python-dateutil>=2.8.2->pandas->optimagic) (1.17.0)\n",
            "Downloading optimagic-0.5.1-py3-none-any.whl (393 kB)\n",
            "\u001b[2K   \u001b[90m━━━━━━━━━━━━━━━━━━━━━━━━━━━━━━━━━━━━━━━━\u001b[0m \u001b[32m393.5/393.5 kB\u001b[0m \u001b[31m4.7 MB/s\u001b[0m eta \u001b[36m0:00:00\u001b[0m\n",
            "\u001b[?25hDownloading pybaum-0.1.3-py3-none-any.whl (10 kB)\n",
            "Installing collected packages: pybaum, optimagic\n",
            "Successfully installed optimagic-0.5.1 pybaum-0.1.3\n"
          ]
        }
      ],
      "source": [
        "!pip install optimagic"
      ]
    },
    {
      "cell_type": "code",
      "source": [
        "!pip install iminuit"
      ],
      "metadata": {
        "colab": {
          "base_uri": "https://localhost:8080/"
        },
        "collapsed": true,
        "id": "sBiQZ0awk8YC",
        "outputId": "5cfee095-15ec-41cc-86b9-98ccf866059e"
      },
      "execution_count": 2,
      "outputs": [
        {
          "output_type": "stream",
          "name": "stdout",
          "text": [
            "Collecting iminuit\n",
            "  Downloading iminuit-2.30.1-cp311-cp311-manylinux_2_17_x86_64.manylinux2014_x86_64.whl.metadata (12 kB)\n",
            "Requirement already satisfied: numpy>=1.21 in /usr/local/lib/python3.11/dist-packages (from iminuit) (2.0.2)\n",
            "Downloading iminuit-2.30.1-cp311-cp311-manylinux_2_17_x86_64.manylinux2014_x86_64.whl (440 kB)\n",
            "\u001b[2K   \u001b[90m━━━━━━━━━━━━━━━━━━━━━━━━━━━━━━━━━━━━━━━━\u001b[0m \u001b[32m440.8/440.8 kB\u001b[0m \u001b[31m6.4 MB/s\u001b[0m eta \u001b[36m0:00:00\u001b[0m\n",
            "\u001b[?25hInstalling collected packages: iminuit\n",
            "Successfully installed iminuit-2.30.1\n"
          ]
        }
      ]
    },
    {
      "cell_type": "markdown",
      "source": [
        "Optimagic"
      ],
      "metadata": {
        "id": "yhxwoU6hl3Hw"
      }
    },
    {
      "cell_type": "code",
      "source": [
        "import numpy as np\n",
        "\n",
        "import optimagic as om\n",
        "\n",
        "\n",
        "def sphere(x):\n",
        "    return x @ x\n",
        "\n",
        "\n",
        "res = om.minimize(\n",
        "    fun=sphere,\n",
        "    params=np.arange(5),\n",
        "    algorithm=\"scipy_lbfgsb\",\n",
        "    numdiff_options=om.NumdiffOptions(n_cores=6),\n",
        ")\n",
        "res.params.round(6)"
      ],
      "metadata": {
        "colab": {
          "base_uri": "https://localhost:8080/"
        },
        "id": "yrEJdtvvk-56",
        "outputId": "29b02d63-006e-4f0b-f365-b4339bf96a67"
      },
      "execution_count": 3,
      "outputs": [
        {
          "output_type": "execute_result",
          "data": {
            "text/plain": [
              "array([ 0.e+00,  1.e-06, -0.e+00, -0.e+00, -0.e+00])"
            ]
          },
          "metadata": {},
          "execution_count": 3
        }
      ]
    },
    {
      "cell_type": "code",
      "source": [
        "res.n_fun_evals, res.n_jac_evals , res.n_iterations"
      ],
      "metadata": {
        "colab": {
          "base_uri": "https://localhost:8080/"
        },
        "id": "y54HKKM2lCp9",
        "outputId": "76d62d86-7890-4cda-e2ed-01893da68c2e"
      },
      "execution_count": 4,
      "outputs": [
        {
          "output_type": "execute_result",
          "data": {
            "text/plain": [
              "(3, 3, 2)"
            ]
          },
          "metadata": {},
          "execution_count": 4
        }
      ]
    },
    {
      "cell_type": "markdown",
      "source": [
        "Migrad"
      ],
      "metadata": {
        "id": "rc4YSkRblaMn"
      }
    },
    {
      "cell_type": "code",
      "source": [
        "import numpy as np\n",
        "from iminuit import Minuit\n",
        "\n",
        "def sphere(x):\n",
        "    return x @ x\n",
        "\n",
        "initial_values = np.arange(5)\n",
        "m = Minuit(sphere, initial_values)\n",
        "\n",
        "m.migrad()\n"
      ],
      "metadata": {
        "colab": {
          "base_uri": "https://localhost:8080/",
          "height": 408
        },
        "id": "pi1dn_8LlbxR",
        "outputId": "fa13fbaf-87ef-408a-b8b7-a2df0d30239d"
      },
      "execution_count": 8,
      "outputs": [
        {
          "output_type": "execute_result",
          "data": {
            "text/plain": [
              "┌─────────────────────────────────────────────────────────────────────────┐\n",
              "│                                Migrad                                   │\n",
              "├──────────────────────────────────┬──────────────────────────────────────┤\n",
              "│ FCN = 7.985e-18                  │              Nfcn = 63               │\n",
              "│ EDM = 7.99e-18 (Goal: 0.0002)    │                                      │\n",
              "├──────────────────────────────────┼──────────────────────────────────────┤\n",
              "│          Valid Minimum           │   Below EDM threshold (goal x 10)    │\n",
              "├──────────────────────────────────┼──────────────────────────────────────┤\n",
              "│      No parameters at limit      │           Below call limit           │\n",
              "├──────────────────────────────────┼──────────────────────────────────────┤\n",
              "│             Hesse ok             │         Covariance accurate          │\n",
              "└──────────────────────────────────┴──────────────────────────────────────┘\n",
              "┌───┬──────┬───────────┬───────────┬────────────┬────────────┬─────────┬─────────┬───────┐\n",
              "│   │ Name │   Value   │ Hesse Err │ Minos Err- │ Minos Err+ │ Limit-  │ Limit+  │ Fixed │\n",
              "├───┼──────┼───────────┼───────────┼────────────┼────────────┼─────────┼─────────┼───────┤\n",
              "│ 0 │ x0   │     0     │     1     │            │            │         │         │       │\n",
              "│ 1 │ x1   │     0     │     1     │            │            │         │         │       │\n",
              "│ 2 │ x2   │     0     │     1     │            │            │         │         │       │\n",
              "│ 3 │ x3   │     0     │     1     │            │            │         │         │       │\n",
              "│ 4 │ x4   │     0     │     1     │            │            │         │         │       │\n",
              "└───┴──────┴───────────┴───────────┴────────────┴────────────┴─────────┴─────────┴───────┘\n",
              "┌────┬────────────────┐\n",
              "│    │ x0 x1 x2 x3 x4 │\n",
              "├────┼────────────────┤\n",
              "│ x0 │  1  0  0  0  0 │\n",
              "│ x1 │  0  1  0  0  0 │\n",
              "│ x2 │  0  0  1  0  0 │\n",
              "│ x3 │  0  0  0  1  0 │\n",
              "│ x4 │  0  0  0  0  1 │\n",
              "└────┴────────────────┘"
            ],
            "text/html": [
              "<table>\n",
              "    <tr>\n",
              "        <th colspan=\"2\" style=\"text-align:center\" title=\"Minimizer\"> Migrad </th>\n",
              "    </tr>\n",
              "    <tr>\n",
              "        <td style=\"text-align:left\" title=\"Minimum value of function\"> FCN = 7.985e-18 </td>\n",
              "        <td style=\"text-align:center\" title=\"Total number of function and (optional) gradient evaluations\"> Nfcn = 63 </td>\n",
              "    </tr>\n",
              "    <tr>\n",
              "        <td style=\"text-align:left\" title=\"Estimated distance to minimum and goal\"> EDM = 7.99e-18 (Goal: 0.0002) </td>\n",
              "        <td style=\"text-align:center\" title=\"Total run time of algorithms\">  </td>\n",
              "    </tr>\n",
              "    <tr>\n",
              "        <td style=\"text-align:center;background-color:#92CCA6;color:black\"> Valid Minimum </td>\n",
              "        <td style=\"text-align:center;background-color:#92CCA6;color:black\"> Below EDM threshold (goal x 10) </td>\n",
              "    </tr>\n",
              "    <tr>\n",
              "        <td style=\"text-align:center;background-color:#92CCA6;color:black\"> No parameters at limit </td>\n",
              "        <td style=\"text-align:center;background-color:#92CCA6;color:black\"> Below call limit </td>\n",
              "    </tr>\n",
              "    <tr>\n",
              "        <td style=\"text-align:center;background-color:#92CCA6;color:black\"> Hesse ok </td>\n",
              "        <td style=\"text-align:center;background-color:#92CCA6;color:black\"> Covariance accurate </td>\n",
              "    </tr>\n",
              "</table><table>\n",
              "    <tr>\n",
              "        <td></td>\n",
              "        <th title=\"Variable name\"> Name </th>\n",
              "        <th title=\"Value of parameter\"> Value </th>\n",
              "        <th title=\"Hesse error\"> Hesse Error </th>\n",
              "        <th title=\"Minos lower error\"> Minos Error- </th>\n",
              "        <th title=\"Minos upper error\"> Minos Error+ </th>\n",
              "        <th title=\"Lower limit of the parameter\"> Limit- </th>\n",
              "        <th title=\"Upper limit of the parameter\"> Limit+ </th>\n",
              "        <th title=\"Is the parameter fixed in the fit\"> Fixed </th>\n",
              "    </tr>\n",
              "    <tr>\n",
              "        <th> 0 </th>\n",
              "        <td> x0 </td>\n",
              "        <td> 0 </td>\n",
              "        <td> 1 </td>\n",
              "        <td>  </td>\n",
              "        <td>  </td>\n",
              "        <td>  </td>\n",
              "        <td>  </td>\n",
              "        <td>  </td>\n",
              "    </tr>\n",
              "    <tr>\n",
              "        <th> 1 </th>\n",
              "        <td> x1 </td>\n",
              "        <td> 0 </td>\n",
              "        <td> 1 </td>\n",
              "        <td>  </td>\n",
              "        <td>  </td>\n",
              "        <td>  </td>\n",
              "        <td>  </td>\n",
              "        <td>  </td>\n",
              "    </tr>\n",
              "    <tr>\n",
              "        <th> 2 </th>\n",
              "        <td> x2 </td>\n",
              "        <td> 0 </td>\n",
              "        <td> 1 </td>\n",
              "        <td>  </td>\n",
              "        <td>  </td>\n",
              "        <td>  </td>\n",
              "        <td>  </td>\n",
              "        <td>  </td>\n",
              "    </tr>\n",
              "    <tr>\n",
              "        <th> 3 </th>\n",
              "        <td> x3 </td>\n",
              "        <td> 0 </td>\n",
              "        <td> 1 </td>\n",
              "        <td>  </td>\n",
              "        <td>  </td>\n",
              "        <td>  </td>\n",
              "        <td>  </td>\n",
              "        <td>  </td>\n",
              "    </tr>\n",
              "    <tr>\n",
              "        <th> 4 </th>\n",
              "        <td> x4 </td>\n",
              "        <td> 0 </td>\n",
              "        <td> 1 </td>\n",
              "        <td>  </td>\n",
              "        <td>  </td>\n",
              "        <td>  </td>\n",
              "        <td>  </td>\n",
              "        <td>  </td>\n",
              "    </tr>\n",
              "</table><table>\n",
              "    <tr>\n",
              "        <td></td>\n",
              "        <th> x0 </th>\n",
              "        <th> x1 </th>\n",
              "        <th> x2 </th>\n",
              "        <th> x3 </th>\n",
              "        <th> x4 </th>\n",
              "    </tr>\n",
              "    <tr>\n",
              "        <th> x0 </th>\n",
              "        <td> 1 </td>\n",
              "        <td style=\"background-color:rgb(250,250,250);color:black\"> 0 </td>\n",
              "        <td style=\"background-color:rgb(250,250,250);color:black\"> 0 </td>\n",
              "        <td style=\"background-color:rgb(250,250,250);color:black\"> 0 </td>\n",
              "        <td style=\"background-color:rgb(250,250,250);color:black\"> 0 </td>\n",
              "    </tr>\n",
              "    <tr>\n",
              "        <th> x1 </th>\n",
              "        <td style=\"background-color:rgb(250,250,250);color:black\"> 0 </td>\n",
              "        <td> 1 </td>\n",
              "        <td style=\"background-color:rgb(250,250,250);color:black\"> 0 </td>\n",
              "        <td style=\"background-color:rgb(250,250,250);color:black\"> 0 </td>\n",
              "        <td style=\"background-color:rgb(250,250,250);color:black\"> 0 </td>\n",
              "    </tr>\n",
              "    <tr>\n",
              "        <th> x2 </th>\n",
              "        <td style=\"background-color:rgb(250,250,250);color:black\"> 0 </td>\n",
              "        <td style=\"background-color:rgb(250,250,250);color:black\"> 0 </td>\n",
              "        <td> 1 </td>\n",
              "        <td style=\"background-color:rgb(250,250,250);color:black\"> 0 </td>\n",
              "        <td style=\"background-color:rgb(250,250,250);color:black\"> 0 </td>\n",
              "    </tr>\n",
              "    <tr>\n",
              "        <th> x3 </th>\n",
              "        <td style=\"background-color:rgb(250,250,250);color:black\"> 0 </td>\n",
              "        <td style=\"background-color:rgb(250,250,250);color:black\"> 0 </td>\n",
              "        <td style=\"background-color:rgb(250,250,250);color:black\"> 0 </td>\n",
              "        <td> 1 </td>\n",
              "        <td style=\"background-color:rgb(250,250,250);color:black\"> 0 </td>\n",
              "    </tr>\n",
              "    <tr>\n",
              "        <th> x4 </th>\n",
              "        <td style=\"background-color:rgb(250,250,250);color:black\"> 0 </td>\n",
              "        <td style=\"background-color:rgb(250,250,250);color:black\"> 0 </td>\n",
              "        <td style=\"background-color:rgb(250,250,250);color:black\"> 0 </td>\n",
              "        <td style=\"background-color:rgb(250,250,250);color:black\"> 0 </td>\n",
              "        <td> 1 </td>\n",
              "    </tr>\n",
              "</table>"
            ]
          },
          "metadata": {},
          "execution_count": 8
        }
      ]
    },
    {
      "cell_type": "code",
      "source": [
        "m.nfcn"
      ],
      "metadata": {
        "colab": {
          "base_uri": "https://localhost:8080/"
        },
        "id": "-8AtwFg8levb",
        "outputId": "aeba7be9-12dc-4ccd-b209-3ac35ebfd54c"
      },
      "execution_count": 9,
      "outputs": [
        {
          "output_type": "execute_result",
          "data": {
            "text/plain": [
              "63"
            ]
          },
          "metadata": {},
          "execution_count": 9
        }
      ]
    }
  ]
}